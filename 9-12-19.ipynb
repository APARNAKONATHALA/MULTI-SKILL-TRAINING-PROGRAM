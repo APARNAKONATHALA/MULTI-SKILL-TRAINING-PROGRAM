{
 "cells": [
  {
   "cell_type": "markdown",
   "metadata": {},
   "source": [
    "- check if student is paased in all subjects or not\n",
    "- calculate the percentage of each student\n",
    "- assign the grade depending upon the percentage\n",
    "    - \\> 65A\n",
    "    - <65 and >60b\n",
    "    - <60 and >50c\n",
    "    - <50d"
   ]
  },
  {
   "cell_type": "code",
   "execution_count": 11,
   "metadata": {},
   "outputs": [
    {
     "name": "stdout",
     "output_type": "stream",
     "text": [
      "appu\tp\t83.0\tA\n",
      "vishu\tp\t72.5\tA\n",
      "radha\tp\t82.5\tA\n",
      "jeva\tp\t51.5\tC\n"
     ]
    }
   ],
   "source": [
    "fh = open('data.txt','r')\n",
    "fh.readline()\n",
    "data = fh.readlines()\n",
    "for line in data:\n",
    "    p = line.split()\n",
    "    s=1\n",
    "    percentage = 0\n",
    "    print(p[0],end = '\\t')\n",
    "    #print(p)\n",
    "    #print(p[2:])\n",
    "    for list in data:\n",
    "        N = int(p[2])\n",
    "        if N < 35:\n",
    "            s = 0\n",
    "    if s != 0:\n",
    "        print('p',end = '\\t')\n",
    "    else:\n",
    "        print('f',end = '\\t')\n",
    "    L = int(p[3])+int(p[4])+int(p[5])+int(p[2])\n",
    "    percentage = (L * 100) / 400\n",
    "    print(percentage,end = '\\t')\n",
    "    if percentage > 65:\n",
    "        print('A',end = '\\n')\n",
    "    elif percentage < 65 and percentage > 60:\n",
    "        print('B',end = '\\n')\n",
    "    elif percentage < 60 and percentage >50:\n",
    "        print('C',end = '\\n')\n",
    "    else:\n",
    "        print('D',end = '\\n')\n",
    "fh.close( )"
   ]
  },
  {
   "cell_type": "code",
   "execution_count": null,
   "metadata": {},
   "outputs": [],
   "source": [
    "fh = open('data.txt','r')\n",
    "fh.readline()\n",
    "data = fh.readlines()\n",
    "for line in data:\n",
    "    p = line.split()\n",
    "    s=1\n",
    "    percentage = 0\n",
    "    print(p[0],end = '\\t')\n",
    "    #print(p)\n",
    "    #print(p[2:])\n",
    "    for list in data:\n",
    "        N = int(p[2])\n",
    "        if N < 35:\n",
    "            s = 0\n",
    "    if s != 0:\n",
    "        print('p',end = '\\t')\n",
    "    else:\n",
    "        print('f',end = '\\t')\n",
    "    L = int(p[3])+int(p[4])+int(p[5])+int(p[2])\n",
    "    percentage = (L * 100) / 400\n",
    "    print(percentage,end = '\\t')\n",
    "    if percentage > 65:\n",
    "        print('A',end = '\\n')\n",
    "    elif percentage < 65 and percentage > 60:\n",
    "        print('B',end = '\\n')\n",
    "    elif percentage < 60 and percentage >50:\n",
    "        print('C',end = '\\n')\n",
    "    else:\n",
    "        print('D',end = '\\n')\n",
    "fh.close( )"
   ]
  }
 ],
 "metadata": {
  "kernelspec": {
   "display_name": "Python 3",
   "language": "python",
   "name": "python3"
  },
  "language_info": {
   "codemirror_mode": {
    "name": "ipython",
    "version": 3
   },
   "file_extension": ".py",
   "mimetype": "text/x-python",
   "name": "python",
   "nbconvert_exporter": "python",
   "pygments_lexer": "ipython3",
   "version": "3.7.3"
  }
 },
 "nbformat": 4,
 "nbformat_minor": 2
}
